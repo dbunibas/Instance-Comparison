{
 "cells": [
  {
   "cell_type": "markdown",
   "id": "7c03aca6",
   "metadata": {},
   "source": [
    "# Dataset Statistics"
   ]
  },
  {
   "cell_type": "code",
   "execution_count": 1,
   "id": "cf71284c",
   "metadata": {},
   "outputs": [],
   "source": [
    "import os\n",
    "import numpy as np\n",
    "import pandas as pd\n",
    "import csv\n",
    "\n",
    "BASE_PATH = \"./resources/datasets/\""
   ]
  },
  {
   "cell_type": "code",
   "execution_count": 2,
   "id": "8740dc60",
   "metadata": {},
   "outputs": [],
   "source": [
    "allValues = set()"
   ]
  },
  {
   "cell_type": "code",
   "execution_count": 3,
   "id": "6f04bef2",
   "metadata": {},
   "outputs": [],
   "source": [
    "pathFile = BASE_PATH + \"exp-dataversioning/iris/ver_0/iris.csv\"\n",
    "## other datasets in the resources folder"
   ]
  },
  {
   "cell_type": "code",
   "execution_count": 4,
   "id": "26642f4a",
   "metadata": {},
   "outputs": [],
   "source": [
    "df = pd.read_csv(pathFile)"
   ]
  },
  {
   "cell_type": "code",
   "execution_count": 5,
   "id": "854a26dd",
   "metadata": {},
   "outputs": [],
   "source": [
    "for column in df.columns:\n",
    "    allValues.update(df[column].unique())"
   ]
  },
  {
   "cell_type": "code",
   "execution_count": 6,
   "id": "b752ae4a",
   "metadata": {},
   "outputs": [
    {
     "name": "stdout",
     "output_type": "stream",
     "text": [
      "76\n"
     ]
    }
   ],
   "source": [
    "print(len(allValues))"
   ]
  },
  {
   "cell_type": "markdown",
   "id": "e65eb097",
   "metadata": {},
   "source": [
    "# Data Cleaning"
   ]
  },
  {
   "cell_type": "code",
   "execution_count": 15,
   "id": "ccef04bf",
   "metadata": {},
   "outputs": [],
   "source": [
    "baseFolder = BASE_PATH + \"exp-datacleaning/\"\n",
    "dataset = \"bus\"\n",
    "algorithm = \"holistic\"\n",
    "#algorithm = \"sampling\"\n",
    "#algorithm = \"lunatic\"\n",
    "#algorithm = \"holoclean\"\n",
    "changesPath = baseFolder + dataset + \"/\" + algorithm + \"_changes/changes.csv\"\n",
    "changesOriginal = baseFolder + dataset + \"/changes.csv\"\n",
    "dirtyPath = baseFolder + dataset + \"/\" + \"dirty/\" + dataset + \".csv\"\n",
    "outputFile = baseFolder + dataset + \"/\" + algorithm +\"_clean.csv\""
   ]
  },
  {
   "cell_type": "code",
   "execution_count": 16,
   "id": "63541103",
   "metadata": {},
   "outputs": [],
   "source": [
    "### F1 from error cells\n",
    "import csv\n",
    "dictClean = {}\n",
    "with open(changesOriginal) as csvfile:\n",
    "    rows = csv.reader(csvfile, delimiter=',', quotechar='\"')\n",
    "    for row in rows:\n",
    "        cell = row[0]\n",
    "        oldValue = row[1]\n",
    "        newValue = row[2]\n",
    "        dictClean[cell] = newValue\n",
    "\n",
    "dictDirty = {}\n",
    "with open(changesPath) as csvfile:\n",
    "    rows = csv.reader(csvfile, delimiter=',', quotechar='\"')\n",
    "    for row in rows:\n",
    "        cell = row[0]\n",
    "        oldValue = row[1]\n",
    "        newValue = row[2]\n",
    "        dictDirty[cell] = newValue\n"
   ]
  },
  {
   "cell_type": "code",
   "execution_count": 17,
   "id": "121c0b25",
   "metadata": {},
   "outputs": [
    {
     "name": "stdout",
     "output_type": "stream",
     "text": [
      "0,8535376295628662\n"
     ]
    }
   ],
   "source": [
    "tp = 0.0\n",
    "fp = 0.0\n",
    "tn = 0.0\n",
    "fn = 0.0\n",
    "for key, value in dictDirty.items():\n",
    "    if key in dictClean:\n",
    "        valueInClean = dictDirty[key]\n",
    "        if valueInClean.lower() == value.lower():\n",
    "            tp += 1\n",
    "        else:\n",
    "            fp += 1\n",
    "    else:\n",
    "        fp += 1\n",
    "for key, value in dictClean.items():\n",
    "    if key not in dictDirty:\n",
    "        fn += 1\n",
    "\n",
    "if tp + fp == 0:\n",
    "    precision = 0.0\n",
    "else:\n",
    "    precision = tp / (tp + fp)\n",
    "if tp + fn == 0:\n",
    "    recall = 0.0\n",
    "else:\n",
    "    recall = tp / (tp + fn)\n",
    "if precision + recall == 0:\n",
    "    f1 = 0.0\n",
    "else:\n",
    "    f1 = (2.0 * precision * recall) / (precision + recall)\n",
    "print(str(f1).replace(\".\", \",\"))\n"
   ]
  },
  {
   "cell_type": "markdown",
   "id": "73b8cecf",
   "metadata": {},
   "source": [
    "# Data Versioning\n",
    "Here we analyze the output produced by diff commands (see the exp-folder and run the sh files before execute cells below)"
   ]
  },
  {
   "cell_type": "code",
   "execution_count": 18,
   "id": "0564a497",
   "metadata": {},
   "outputs": [],
   "source": [
    "baseFolder = BASE_PATH + \"exp-dataversioning/\"\n",
    "dataset = \"iris\"\n",
    "comparator = \"iris_0_0_shuffled.txt\"\n",
    "#comparator = \"iris_0_1_removed.txt\"\n",
    "#comparator = \"iris_0_1_removed_shuffled.txt\"\n",
    "#comparator = \"iris_0_2_column.txt\"\n",
    "\n",
    "#dataset = \"nba\"\n",
    "#comparator = \"nba_0_0_shuffled.txt\"\n",
    "#comparator = \"nba_0_1_removed.txt\"\n",
    "#comparator = \"nba_0_1_removed_shuffled.txt\"\n",
    "#comparator = \"nba_0_2_column.txt\"\n",
    "\n",
    "fileTxt = baseFolder + dataset + \"/\" + comparator"
   ]
  },
  {
   "cell_type": "code",
   "execution_count": 19,
   "id": "5be49e81",
   "metadata": {},
   "outputs": [
    {
     "name": "stdout",
     "output_type": "stream",
     "text": [
      "104\t104\n"
     ]
    }
   ],
   "source": [
    "lines = None\n",
    "with open(fileTxt) as f:\n",
    "    lines = [line.rstrip() for line in f]\n",
    "\n",
    "del lines[0]\n",
    "del lines[0]\n",
    "del lines[0]\n",
    "\n",
    "#### - rows removed from file 1; + rows added in second file, space same line\n",
    "\n",
    "nmL = 0\n",
    "nmR = 0\n",
    "for line in lines:\n",
    "    #print(line)\n",
    "    firstChar = line[0]\n",
    "    if firstChar == '-':\n",
    "        nmL += 1\n",
    "    if firstChar == '+':\n",
    "        nmR += 1\n",
    "\n",
    "print(nmL, nmR, sep=\"\\t\")"
   ]
  },
  {
   "cell_type": "code",
   "execution_count": null,
   "id": "8002bdb7",
   "metadata": {},
   "outputs": [],
   "source": []
  }
 ],
 "metadata": {
  "kernelspec": {
   "display_name": "Python 3",
   "language": "python",
   "name": "python3"
  },
  "language_info": {
   "codemirror_mode": {
    "name": "ipython",
    "version": 3
   },
   "file_extension": ".py",
   "mimetype": "text/x-python",
   "name": "python",
   "nbconvert_exporter": "python",
   "pygments_lexer": "ipython3",
   "version": "3.7.10"
  }
 },
 "nbformat": 4,
 "nbformat_minor": 5
}
